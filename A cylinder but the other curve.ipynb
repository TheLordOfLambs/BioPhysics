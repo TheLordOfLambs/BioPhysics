{
 "cells": [
  {
   "cell_type": "markdown",
   "metadata": {},
   "source": [
    "## Let's take a cylinder:"
   ]
  },
  {
   "cell_type": "markdown",
   "metadata": {},
   "source": [
    "So we TEST TEST TEST know the energy of binndinf for a circle of radius $r_i$: $$e_i = \\pi k_b T b \\frac{1}{r_i}$$\n",
    "\n",
    "So the energy for one layer at radius $r_i$ is: $$E_i = N_i e_i$$\n",
    "\n",
    "But we have a cylinder of height $h$,if we consider that the distance between to circle is constant and equal to $r_m$ we have that $N_i$ is just: $$N_i = \\frac{h}{r_m}=n_{circle}$$\n",
    "\n",
    "We can know try to compute the full binding energy, $$E_{tot} = \\Sigma_{i=0}^{i_{max}} E_i = \\Sigma_{i=0}^{i_{max}} n_{circle} e_i = \\frac{h}{r_m} \\pi k_b T b \\Sigma_{i=0}^{i_{max}} \\frac{1}{r_i} $$\n",
    "\n",
    "Let's use a integral form: $$E_{tot} = \\frac{h \\pi k_b T b}{r_m^2} \\int_{r_{max}}^{r_{vesi}}\\frac{1}{r_i}dr_i = \\frac{h \\pi k_b T b}{r_m^2} \\log{(\\frac{r_{vesi}}{r_{max}})} $$\n",
    "\n",
    "Now we have to determine $r_{max}$, for that we can use a constraint on the lentgh, $L_{tot}=\\Sigma_{i=0}^{i_{max}} n_{circle}L_i = \\Sigma_{i=0}^{i_{max}} n_{circle} 2 \\pi r_i$. If we use the integral again $$L_{tot}=\\frac{2 \\pi h}{r_m^2} \\int_{r_{max}}^{r_{vesi}}r_i = \\frac{2 \\pi h}{r_m^2}(r_{vesi}^2 - r_{max}^2) $$.\n",
    "\n",
    "So we have $r_{max}^2 = r_{vesi}^2 - \\frac{L_{tot} r_m^2}{2 \\pi h}$\n",
    "\n",
    "And now we are happy because we can write $E_{tot}$ as a function of $L_{tot}$: $$E_{tot}=\\frac{h \\pi k_b T b}{r_m^2} \\log{(\\frac{1}{\\sqrt{1-\\frac{L_{tot} r_m^2}{2 \\pi h r_{vesi}^2}}})}=-\\frac{1}{2} \\frac{h \\pi k_b T b}{r_m^2} \\log{(1-\\frac{L_{tot} r_m^2}{2 \\pi h r_{vesi}^2})}$$.\n",
    "\n",
    "At the end we have acces to the force, which is just the variation of the energy with respect to the total length: $$F = \\frac{\\partial E_{tot}}{ \\partial L_{tot} }=-\\frac{1}{2} \\frac{h \\pi k_b T b}{r_m^2}(-\\frac{r_m^2}{2 \\pi h r_{vesi}^2} \\frac{1}{1-\\frac{L_{tot} r_m^2}{2 \\pi h r_{vesi}^2}})$$\n",
    "\n",
    "$$F= \\frac{\\frac{k_b T b}{4  r_{vesi}^2}}{1-\\frac{L_{tot} r_m^2}{2 \\pi h r_{vesi}^2}}$$\n",
    "\n",
    "Let's détails our parameter: $T=300K$; $b=persitence lentgh of DNA=50nm$; $r_{vesi}=20nm$; $h=\\frac{4}{3}r_{vesi}$ if we want that our cylinder has the same volume as the sphere; $L_{tot}=n l_{BP} = x l_{BP} N$ where $x$ is the percentage of genome packaged, $l_{BP}=0.33nm$ is the lentgh of BP, $N$ is the total number of BP.\n",
    "\n",
    "$$F= \\frac{\\frac{k_b T b}{4  r_{vesi}^2}}{1-\\frac{ 3 x l_{BP} N r_m^2}{8 \\pi r_{vesi}^3}}$$"
   ]
  },
  {
   "cell_type": "code",
   "execution_count": 3,
   "metadata": {},
   "outputs": [],
   "source": [
    "import numpy as np\n",
    "import matplotlib.pyplot as plt\n",
    "from scipy.optimize import curve_fit"
   ]
  },
  {
   "cell_type": "code",
   "execution_count": 4,
   "metadata": {},
   "outputs": [],
   "source": [
    "k = 4.114/298\n",
    "b = 50\n",
    "r_vesi = 20\n",
    "N = 19000\n",
    "\n",
    "l_BP = 0.33\n",
    "#T = 300 #(pN nm)\n",
    "\n",
    "def model(x,r_m,T) :\n",
    "    \n",
    "    \n",
    "    f = ((k*T*b)/(4*(r_vesi**2))/(1-(3*(x/100)*l_BP*N*(r_m**2))/(8*np.pi*(r_vesi**3))))\n",
    "    \n",
    "    return f"
   ]
  },
  {
   "cell_type": "code",
   "execution_count": 5,
   "metadata": {},
   "outputs": [
    {
     "name": "stdout",
     "output_type": "stream",
     "text": [
      "3.2694185738839154\n"
     ]
    }
   ],
   "source": [
    "r = np.sqrt((8*np.pi*r_vesi**3)/(3*N*l_BP))\n",
    "print(r)"
   ]
  },
  {
   "cell_type": "code",
   "execution_count": 6,
   "metadata": {},
   "outputs": [],
   "source": [
    "x = np.array([30.37292789969,31.99187600139,33.6108241031,\n",
    "              35.22977220481,36.84872030651,38.46766840822,\n",
    "              40.65324834552,42.27219644723,43.89114454894,\n",
    "              45.51009265064,47.12904075235,48.74798885406,50.36693695576,\n",
    "              51.98588505747,53.60483315918,55.22378126088,\n",
    "              56.84272936259,58.4616774643,60.080625566,\n",
    "              61.69957366771,63.31852176942,64.93746987113,\n",
    "              66.55641797283,68.17536607454,69.79431417625,\n",
    "              71.41326227795,73.03221037966,74.65115848137,\n",
    "              76.27010658307,77.88905468478,79.50800278649,\n",
    "              81.12695088819,82.7458989899,84.36484709161,\n",
    "              85.98379519331,87.60274329502,89.22169139673,\n",
    "              90.84063949843,92.45958760014,94.07853570185,\n",
    "              95.69748380355,97.31643190526,98.93538000697,\n",
    "              100.5543281087,102.1732762104,103.7922243121])\n",
    "\n",
    "\n",
    "y = np.array([-0.5429885000496,-0.6086670962625,-0.1817562208784,\n",
    "              0.01527956776048,0.01527956776048,-0.08323832655894,\n",
    "              -0.08323832655894,0.1137974620799,0.4093511450382,\n",
    "              1.033297809061,1.263172895806,1.460208684445,\n",
    "              1.624405174978,1.952798156042,2.576744820065,\n",
    "              3.200691484088,3.726120253792,4.842656389412,\n",
    "              6.057710419352,7.502639536036,8.750532864082,\n",
    "              9.867068999703,11.27915881828,13.15099881035,\n",
    "              16.00801774561,18.17541142064,19.94873351839,\n",
    "              21.49218052939,22.70723455933,24.11932437791,\n",
    "              25.89264647566,28.15855804501,30.6543447011,\n",
    "              33.47852433826,36.99232923565,39.84934817091,\n",
    "              42.11525974026,43.92142113612,45.46486814712,\n",
    "              46.81127936949,47.92781550511,48.88015515019,\n",
    "              49.79965549717,50.52212005552,51.34310250818,\n",
    "              51.9670491722])"
   ]
  },
  {
   "cell_type": "code",
   "execution_count": 7,
   "metadata": {},
   "outputs": [
    {
     "data": {
      "image/png": "[encoded data removed]",
      "text/plain": [
       "<Figure size 432x288 with 1 Axes>"
      ]
     },
     "metadata": {
      "needs_background": "light"
     },
     "output_type": "display_data"
    }
   ],
   "source": [
    "plt.figure(1)\n",
    "plt.rc('font', size=15)\n",
    "\n",
    "popt, pcov = curve_fit(model, x,y,maxfev=10000,p0=[0.8,300])\n",
    "\n",
    "plt.plot(x, y, 'b-', label='data')\n",
    "plt.plot(x, model(x, *popt), 'g--',\n",
    "         label='fit: r_m=%5.3f,T=%5.3f' % tuple(popt))\n",
    "\n",
    "plt.xlabel('x')\n",
    "plt.ylabel('y')\n",
    "plt.title(' model fit ')\n",
    "plt.legend()\n",
    "plt.show()"
   ]
  },
  {
   "cell_type": "code",
   "execution_count": null,
   "metadata": {},
   "outputs": [],
   "source": [
    "blablabla"
   ]
  }
 ],
 "metadata": {
  "kernelspec": {
   "display_name": "Python 3",
   "language": "python",
   "name": "python3"
  },
  "language_info": {
   "codemirror_mode": {
    "name": "ipython",
    "version": 3
   },
   "file_extension": ".py",
   "mimetype": "text/x-python",
   "name": "python",
   "nbconvert_exporter": "python",
   "pygments_lexer": "ipython3",
   "version": "3.7.4"
  }
 },
 "nbformat": 4,
 "nbformat_minor": 2
}
