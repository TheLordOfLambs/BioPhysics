{
 "cells": [
  {
   "cell_type": "markdown",
   "metadata": {
    "id": "tGT-bLqzFLb9"
   },
   "source": [
    "## Let's take a cylinder:"
   ]
  },
  {
   "cell_type": "markdown",
   "metadata": {
    "id": "MI0ZRieXFLb9"
   },
   "source": [
    "So we know the energy of binndinf for a circle of radius $r_i$: $$e_i = \\pi k_b T b \\frac{1}{r_i}$$\n",
    "\n",
    "So the energy for one layer at radius $r_i$ is: $$E_i = N_i e_i$$\n",
    "\n",
    "But we have a cylinder of height $h$,if we consider that the distance between to circle is constant and equal to $r_m$ we have that $N_i$ is just: $$N_i = \\frac{h}{r_m}=n_{circle}$$\n",
    "\n",
    "We can know try to compute the full binding energy, $$E_{tot} = \\Sigma_{i=0}^{i_{max}} E_i = \\Sigma_{i=0}^{i_{max}} n_{circle} e_i = \\frac{h}{r_m} \\pi k_b T b \\Sigma_{i=0}^{i_{max}} \\frac{1}{r_i} $$\n",
    "\n",
    "Let's use a integral form: $$E_{biding} = \\frac{h \\pi k_b T b}{r_m^2} \\int_{r_{max}}^{r_{vesi}}\\frac{1}{r_i}dr_i = \\frac{h \\pi k_b T b}{r_m^2} \\log{(\\frac{r_{vesi}}{r_{max}})} $$\n",
    "\n",
    "Now we have to determine $r_{max}$, for that we can use a constraint on the lentgh, $L_{tot}=\\Sigma_{i=0}^{i_{max}} n_{circle}L_i = \\Sigma_{i=0}^{i_{max}} n_{circle} 2 \\pi r_i$. If we use the integral again $$L_{tot}=\\frac{2 \\pi h}{r_m^2} \\int_{r_{max}}^{r_{vesi}}r_i = \\frac{2 \\pi h}{r_m^2}(r_{vesi}^2 - r_{max}^2) $$.\n",
    "\n",
    "So we have $r_{max}^2 = r_{vesi}^2 - \\frac{L_{tot} r_m^2}{2 \\pi h}$\n",
    "\n",
    "And now we are happy because we can write $E_{biding}$ as a function of $L_{tot}$: $$E_{biding}=\\frac{h \\pi k_b T b}{r_m^2} \\log{(\\frac{1}{\\sqrt{1-\\frac{L_{tot} r_m^2}{2 \\pi h r_{vesi}^2}}})}=-\\frac{1}{2} \\frac{h \\pi k_b T b}{r_m^2} \\log{(1-\\frac{L_{tot} r_m^2}{2 \\pi h r_{vesi}^2})}$$.\n",
    "\n",
    "(((At the end we have acces to the force, which is just the variation of the energy with respect to the total length: $$F_{biding} = \\frac{\\partial E_{biding}}{ \\partial L_{tot} }=-\\frac{1}{2} \\frac{h \\pi k_b T b}{r_m^2}(-\\frac{r_m^2}{2 \\pi h r_{vesi}^2} \\frac{1}{1-\\frac{L_{tot} r_m^2}{2 \\pi h r_{vesi}^2}})$$\n",
    "\n",
    "$$F_{biding} = \\frac{\\frac{k_b T b}{4  r_{vesi}^2}}{1-\\frac{L_{tot} r_m^2}{2 \\pi h r_{vesi}^2}}$$\n",
    "\n",
    "Let's détails our parameter: $T=300K$; $b=persitence lentgh of DNA=50nm$; $r_{vesi}=20nm$; $h=\\frac{4}{3}r_{vesi}$ if we want that our cylinder has the same volume as the sphere; $L_{tot}=n l_{BP} = x l_{BP} N$ where $x$ is the percentage of genome packaged, $l_{BP}=0.33nm$ is the lentgh of BP, $N$ is the total number of BP.\n",
    "\n",
    "$$F_{biding}= \\frac{\\frac{k_b T b}{4  r_{vesi}^2}}{1-\\frac{ 3 x l_{BP} N r_m^2}{8 \\pi r_{vesi}^3}}$$)))"
   ]
  },
  {
   "cell_type": "markdown",
   "metadata": {
    "id": "SZFSVlKpFLb9"
   },
   "source": [
    "If we assume that the electrostatic energy for one B.P. is given by $$e_{BP}=\\frac{6}{2}  C\\frac{r_0}{r_m} e^{-\\frac{r_m}{r_0}}$$\n",
    "\n",
    "$$E_{el}=n e_{BP} = 3 \\frac{L_{tot}}{l_{BP}} C \\frac{r_0}{r_m}e^{-\\frac{r_m}{r_0}}$$\n",
    "\n",
    "$$E = E_{biding} + E_{el}$$\n",
    "\n",
    "$r_m$ not a fitting parameter but the minimum of $E$ for a given $L_{tot}$\n",
    "\n",
    "$$\\frac{\\partial E}{ \\partial r_m }=0$$\n",
    "\n",
    "\n",
    "$$(\\frac{1}{r_m^2}+\\frac{1}{r_m r_0})e^{-\\frac{r_m}{r_0}} = \\frac{l_{BP}  h \\pi k_b T b}{3 L_{tot} r_0 C} \\frac{1}{r_m^3}(\\log{(1-\\frac{L_{tot} r_m^2}{2 \\pi h r_{vesi}^2})}+ \\frac{1}{\\frac{2 \\pi h r_{vesi}^2}{L_{tot} r_m^2} - 1})$$\n",
    "\n",
    "$$(\\frac{1}{x^2}+\\frac{1}{x})e^{-x} = \\frac{l_{BP} h \\pi k_b T b}{3 L_{tot} r_0^2 C} \\frac{1}{x^3}(\\log{(1-\\frac{L_{tot} x^2 r_0^2}{2 \\pi h r_{vesi}^2})}+ \\frac{1}{\\frac{2 \\pi h r_{vesi}^2}{L_{tot} x^2 r_0^2} - 1})$$\n",
    "\n",
    "$A=\\frac{l_{BP} h \\pi k_b T b}{3 L_{tot} r_0^2 C}$ $B=\\frac{L_{tot} r_0^2}{2 \\pi h r_{vesi}^2}$ $x=\\frac{r_m}{r_0}$\n",
    "\n",
    "$$(\\frac{1}{x^2}+\\frac{1}{x})e^{-x} = A \\frac{1}{x^3}(\\log{(1-B x^2)} + \\frac{1}{\\frac{1}{B x^2 } - 1})$$\n",
    "\n",
    "$L_{tot}=n l_{BP} = y l_{BP} N$ $y$ percentage of genome packed $A(y)=\\frac{ h \\pi k_b T b}{3 N r_0^2 C} \\frac{1}{y}$;$ B=\\frac{ l_{BP} N r_0^2}{2 \\pi h r_{vesi}^2}y$\n",
    "\n",
    "So we solve this equation numericaly and we obtain a relation $r_m = f(L_{tot})$ that we can use for computing the total force $F$:\n",
    "\n",
    "$$F = \\frac{\\partial E}{\\partial L_{tot}} =  \\frac{1}{l_{BP}} C \\frac{r_0}{r_m}e^{-\\frac{r_m}{r_0}} + \\frac{\\frac{k_b T b}{4  r_{vesi}^2}}{1-\\frac{L_{tot} r_m^2}{2 \\pi h r_{vesi}^2}}=\\frac{1}{l_{BP}} C \\frac{r_0}{r_m}e^{-\\frac{r_m}{r_0}} + \\frac{\\frac{k_b T b}{4  r_{vesi}^2}}{1-\\frac{ 3 x l_{BP} N r_m^2}{8 \\pi r_{vesi}^3}} $$\n"
   ]
  },
  {
   "cell_type": "code",
   "execution_count": 1,
   "metadata": {
    "id": "R1rtv5R1FLb9"
   },
   "outputs": [],
   "source": [
    "import numpy as np\n",
    "import matplotlib.pyplot as plt\n",
    "from scipy.optimize import curve_fit\n",
    "from scipy.optimize import minimize,differential_evolution\n",
    "from scipy.optimize import root\n",
    "from sklearn.metrics import mean_squared_error"
   ]
  },
  {
   "cell_type": "code",
   "execution_count": 2,
   "metadata": {
    "id": "6BLbeKKJFLb9"
   },
   "outputs": [],
   "source": [
    "\n",
    "kb= 4.114/298\n",
    "T=298\n",
    "b=25\n",
    "N=19000\n",
    "l_bp=0.34\n",
    "h=20\n",
    "r_vesi=0.816*20\n",
    "e = 68 #e²/eo4pi\n",
    "\n",
    "\n",
    "def RM(Y,C,r_0):\n",
    "    Y = Y/100\n",
    "    def F(x):\n",
    "        def A(y):\n",
    "            return (h*np.pi*kb*T*b)/(3*N*C*y)\n",
    "\n",
    "        def B(y):\n",
    "            return (l_bp*N*(r_0**2)*y)/(2*np.pi*h*(r_vesi**2))\n",
    "\n",
    "        def f1(x):\n",
    "            return (1/(x**2)+1/x)*np.exp(-x)\n",
    "\n",
    "        def f2(x):\n",
    "            return (A(y)/(x**3))*(np.log(1-B(y)*(x**2)+1/((1/(B(y)*(x**2))-1))))\n",
    "\n",
    "        return f1(x) - f2(x)\n",
    "    r = []\n",
    "    for y in Y:\n",
    "        sol = root(F,0.01)\n",
    "        r.append(sol.x*r_0)\n",
    "    r_m = np.array(r).reshape(Y.shape)\n",
    "    return r_m\n",
    "\n",
    "\n",
    "\n",
    "def model(Y,nv,r_0):\n",
    "    C = e/r_0 *nv\n",
    "    Y = Y/100\n",
    "    def F(x):\n",
    "        def A(y):\n",
    "            return (h*np.pi*kb*T*b)/(3*N*C*y)\n",
    "\n",
    "        def B(y):\n",
    "            return (l_bp*N*(r_0**2)*y)/(2*np.pi*h*(r_vesi**2))\n",
    "\n",
    "        def f1(x):\n",
    "            return (1/(x**2)+1/x)*np.exp(-x)\n",
    "\n",
    "        def f2(x):\n",
    "            return (A(y)/(x**3))*(np.log(1-B(y)*(x**2)+1/((1/(B(y)*(x**2))-1))))\n",
    "\n",
    "        return f1(x) - f2(x)\n",
    "\n",
    "    def curve(X,alpha,beta):\n",
    "        return alpha*(X**beta)\n",
    "\n",
    "    r = []\n",
    "    for y in Y:\n",
    "        sol = root(F,0.01)\n",
    "        r.append(sol.x*r_0)\n",
    "    r_m = np.array(r).reshape(Y.shape)\n",
    "\n",
    "\n",
    "    return (C*r_0)/(l_bp*r_m)*np.exp(-r_m/r_0) + (kb*T*b/(4*(r_vesi**2))/(1-(3*Y*l_bp*N*(r_m**2))/(8*np.pi*(r_vesi**3))))"
   ]
  },
  {
   "cell_type": "code",
   "execution_count": 3,
   "metadata": {
    "id": "h-9UV5PvFLb_"
   },
   "outputs": [],
   "source": [
    "X_data = np.array([30.37292789969,31.99187600139,33.6108241031,\n",
    "              35.22977220481,36.84872030651,38.46766840822,\n",
    "              40.65324834552,42.27219644723,43.89114454894,\n",
    "              45.51009265064,47.12904075235,48.74798885406,50.36693695576,\n",
    "              51.98588505747,53.60483315918,55.22378126088,\n",
    "              56.84272936259,58.4616774643,60.080625566,\n",
    "              61.69957366771,63.31852176942,64.93746987113,\n",
    "              66.55641797283,68.17536607454,69.79431417625,\n",
    "              71.41326227795,73.03221037966,74.65115848137,\n",
    "              76.27010658307,77.88905468478,79.50800278649,\n",
    "              81.12695088819,82.7458989899,84.36484709161,\n",
    "              85.98379519331,87.60274329502,89.22169139673,\n",
    "              90.84063949843,92.45958760014,94.07853570185,\n",
    "              95.69748380355,97.31643190526,98.93538000697,\n",
    "              100.5543281087,102.1732762104,103.7922243121])\n",
    "\n",
    "\n",
    "Y_data = np.array([-0.5429885000496,-0.6086670962625,-0.1817562208784,\n",
    "              0.01527956776048,0.01527956776048,-0.08323832655894,\n",
    "              -0.08323832655894,0.1137974620799,0.4093511450382,\n",
    "              1.033297809061,1.263172895806,1.460208684445,\n",
    "              1.624405174978,1.952798156042,2.576744820065,\n",
    "              3.200691484088,3.726120253792,4.842656389412,\n",
    "              6.057710419352,7.502639536036,8.750532864082,\n",
    "              9.867068999703,11.27915881828,13.15099881035,\n",
    "              16.00801774561,18.17541142064,19.94873351839,\n",
    "              21.49218052939,22.70723455933,24.11932437791,\n",
    "              25.89264647566,28.15855804501,30.6543447011,\n",
    "              33.47852433826,36.99232923565,39.84934817091,\n",
    "              42.11525974026,43.92142113612,45.46486814712,\n",
    "              46.81127936949,47.92781550511,48.88015515019,\n",
    "              49.79965549717,50.52212005552,51.34310250818,\n",
    "              51.9670491722])"
   ]
  },
  {
   "cell_type": "code",
   "execution_count": 4,
   "metadata": {
    "colab": {
     "base_uri": "https://localhost:8080/",
     "height": 346
    },
    "id": "iVBh2K6zedy8",
    "outputId": "7177fd70-df5f-4378-867c-0c2ff7fd3436"
   },
   "outputs": [
    {
     "name": "stderr",
     "output_type": "stream",
     "text": [
      "<ipython-input-2-6bb3f6a77c32>:50: RuntimeWarning: invalid value encountered in log\n",
      "  return (A(y)/(x**3))*(np.log(1-B(y)*(x**2)+1/((1/(B(y)*(x**2))-1))))\n",
      "<ipython-input-2-6bb3f6a77c32>:50: RuntimeWarning: invalid value encountered in log\n",
      "  return (A(y)/(x**3))*(np.log(1-B(y)*(x**2)+1/((1/(B(y)*(x**2))-1))))\n",
      "<ipython-input-2-6bb3f6a77c32>:50: RuntimeWarning: invalid value encountered in log\n",
      "  return (A(y)/(x**3))*(np.log(1-B(y)*(x**2)+1/((1/(B(y)*(x**2))-1))))\n"
     ]
    },
    {
     "data": {
      "image/png": "[encoded data removed]",
      "text/plain": [
       "<Figure size 432x288 with 1 Axes>"
      ]
     },
     "metadata": {
      "needs_background": "light"
     },
     "output_type": "display_data"
    }
   ],
   "source": [
    "plt.figure(1)\n",
    "plt.rc('font', size=15)\n",
    "\n",
    "param, pcov = curve_fit(model, X_data,Y_data,maxfev=10000,p0=[80,0.5])\n",
    "\n",
    "plt.plot(X_data, Y_data, 'bo', label='data')\n",
    "plt.plot(X_data, model(X_data, *param), 'go',\n",
    "         label='fit: C=%5.3f, r_0=%5.3f' % tuple(param))\n",
    "y_moche = model(X_data, *param)\n",
    "plt.xlabel('x')\n",
    "plt.ylabel('y')\n",
    "plt.title(' model fit ')\n",
    "plt.legend()\n",
    "plt.show()"
   ]
  },
  {
   "cell_type": "code",
   "execution_count": 9,
   "metadata": {
    "id": "IYpP50EL32qY"
   },
   "outputs": [],
   "source": [
    "h=15\n",
    "kb= 4.114/298\n",
    "T=298\n",
    "b=25\n",
    "N=19000\n",
    "l_bp=0.34\n",
    "r_vesi=20\n",
    "e = 68 #e²/eo4pi\n",
    "\n",
    "\n",
    "def model2(Y,nv,r_0):\n",
    "    C = e/r_0 *nv\n",
    "    y = Y/100\n",
    "    r_m = curve(X_data, *param)\n",
    "\n",
    "\n",
    "    return (C*r_0)/(l_bp*r_m)*np.exp(-r_m/r_0) + (kb*T*b/(4*(r_vesi**2))/(1-(3*y*l_bp*N*(r_m**2))/(8*np.pi*(r_vesi**3))))"
   ]
  },
  {
   "cell_type": "code",
   "execution_count": 10,
   "metadata": {
    "colab": {
     "base_uri": "https://localhost:8080/",
     "height": 328
    },
    "id": "vPXwz3QL5PSh",
    "outputId": "04aeefe6-c0fd-4198-defa-993e7f2d1aa8"
   },
   "outputs": [
    {
     "name": "stderr",
     "output_type": "stream",
     "text": [
      "<ipython-input-2-6bb3f6a77c32>:50: RuntimeWarning: invalid value encountered in log\n",
      "  return (A(y)/(x**3))*(np.log(1-B(y)*(x**2)+1/((1/(B(y)*(x**2))-1))))\n"
     ]
    },
    {
     "data": {
      "image/png": "[encoded data removed]",
      "text/plain": [
       "<Figure size 432x288 with 1 Axes>"
      ]
     },
     "metadata": {
      "needs_background": "light"
     },
     "output_type": "display_data"
    }
   ],
   "source": [
    "def curve(X,alpha,beta):\n",
    "    return alpha*(X**beta)\n",
    "\n",
    "plt.figure(1)\n",
    "plt.rc('font', size=15)\n",
    "\n",
    "\n",
    "plt.plot(X_data, Y_data, 'bo', label='data')\n",
    "plt.plot(X_data, model(X_data, *param), label='fit')\n",
    "plt.plot(X_data, model2(X_data, *param), 'go',\n",
    "         label='fit: C=%5.3f, r_0=%5.3f' % tuple(param))\n",
    "\n",
    "plt.xlabel('x')\n",
    "plt.ylabel('y')\n",
    "plt.title(' model fit ')\n",
    "plt.legend()\n",
    "plt.show()"
   ]
  },
  {
   "cell_type": "code",
   "execution_count": 11,
   "metadata": {
    "id": "OdhCnscg5WKy"
   },
   "outputs": [],
   "source": [
    "\n",
    "kb= 4.114/298\n",
    "T=298\n",
    "b=25\n",
    "N=19000\n",
    "l_bp=0.34\n",
    "h=20\n",
    "r_vesi=0.816*20\n",
    "e = 68 #e²/eo4pi\n",
    "\n",
    "\n",
    "def RM(Y,C,r_0):\n",
    "    Y = Y/100\n",
    "    def F(x):\n",
    "        def A(y):\n",
    "            return (h*np.pi*kb*T*b)/(3*N*C*y)\n",
    "\n",
    "        def B(y):\n",
    "            return (l_bp*N*(r_0**2)*y)/(2*np.pi*h*(r_vesi**2))\n",
    "\n",
    "        def f1(x):\n",
    "            return (1/(x**2)+1/x)*np.exp(-x)\n",
    "\n",
    "        def f2(x):\n",
    "            return (A(y)/(x**3))*(np.log(1-B(y)*(x**2)+1/((1/(B(y)*(x**2))-1))))\n",
    "\n",
    "        return f1(x) - f2(x)\n",
    "    r = []\n",
    "    for y in Y:\n",
    "        sol = root(F,0.01)\n",
    "        r.append(sol.x*r_0)\n",
    "    r_m = np.array(r).reshape(Y.shape)\n",
    "    return r_m\n",
    "\n",
    "\n",
    "\n",
    "def model3(Y,nv,r_0):\n",
    "    C = e/r_0 *nv\n",
    "    Y = Y/100\n",
    "    def F(x):\n",
    "        def A(y):\n",
    "            return (h*np.pi*kb*T*b)/(3*N*C*y)\n",
    "\n",
    "        def B(y):\n",
    "            return (l_bp*N*(r_0**2)*y)/(2*np.pi*h*(r_vesi**2))\n",
    "\n",
    "        def f1(x):\n",
    "            return (1/(x**2)+1/x)*np.exp(-x)\n",
    "\n",
    "        def f2(x):\n",
    "            return (A(y)/(x**3))*(np.log(1-B(y)*(x**2)+1/((1/(B(y)*(x**2))-1))))\n",
    "\n",
    "        return f1(x) - f2(x)\n",
    "\n",
    "    def curve(X,alpha,beta):\n",
    "        return alpha*(X**beta)\n",
    "\n",
    "    r = []\n",
    "    for y in Y:\n",
    "        sol = root(F,0.01)\n",
    "        r.append(sol.x*r_0)\n",
    "    r_m = np.array(r).reshape(Y.shape)\n",
    "    \n",
    "    plaw, pcov = curve_fit(curve, Y,r_m,maxfev=10000,p0=[1,-1/2])\n",
    "    r_m = curve(Y,*plaw)\n",
    "\n",
    "    return (C*r_0)/(l_bp*r_m)*np.exp(-r_m/r_0) + (kb*T*b/(4*(r_vesi**2))/(1-(3*Y*l_bp*N*(r_m**2))/(8*np.pi*(r_vesi**3))))"
   ]
  },
  {
   "cell_type": "code",
   "execution_count": 12,
   "metadata": {},
   "outputs": [
    {
     "name": "stderr",
     "output_type": "stream",
     "text": [
      "<ipython-input-11-408c81067876>:50: RuntimeWarning: invalid value encountered in log\n",
      "  return (A(y)/(x**3))*(np.log(1-B(y)*(x**2)+1/((1/(B(y)*(x**2))-1))))\n"
     ]
    },
    {
     "data": {
      "text/plain": [
       "[<matplotlib.lines.Line2D at 0x1ccdef6f8b0>]"
      ]
     },
     "execution_count": 12,
     "metadata": {},
     "output_type": "execute_result"
    },
    {
     "data": {
      "image/png": "[encoded data removed]",
      "text/plain": [
       "<Figure size 432x288 with 1 Axes>"
      ]
     },
     "metadata": {
      "needs_background": "light"
     },
     "output_type": "display_data"
    }
   ],
   "source": [
    "plt.plot(X_data, Y_data, 'bo', label='data')\n",
    "plt.plot(X_data, model3(X_data, 60,0.5), 'go',\n",
    "         label='fit: C=%5.3f, r_0=%5.3f' % tuple(param))"
   ]
  },
  {
   "cell_type": "code",
   "execution_count": 13,
   "metadata": {},
   "outputs": [],
   "source": [
    "def cost(par,x,y):\n",
    "    C=par[0]\n",
    "    ro=par[1]\n",
    "    return mean_squared_error(y,model3(x,C,ro))\n",
    "    "
   ]
  },
  {
   "cell_type": "code",
   "execution_count": 14,
   "metadata": {},
   "outputs": [],
   "source": [
    "treshold = 80\n",
    "index = np.where(X_data<treshold)[0]"
   ]
  },
  {
   "cell_type": "code",
   "execution_count": null,
   "metadata": {},
   "outputs": [],
   "source": [
    "res = differential_evolution(cost,([6,100],[0.3,5]),args=(X_data[index],Y_data[index]),popsize=50)#,tol=1e-2,strategy='randtobest1bin')\n",
    "res.x"
   ]
  },
  {
   "cell_type": "code",
   "execution_count": null,
   "metadata": {},
   "outputs": [],
   "source": [
    "plt.plot(X_data, Y_data, 'r', label='data')\n",
    "plt.plot(X_data, model3(X_data, res.x[0],res.x[1]), 'g--',\n",
    "         label='fit (smothed)')\n",
    "plt.plot(X_data,model(X_data, res.x[0],res.x[1]),'b--',label='fit')\n",
    "plt.grid('on')\n",
    "plt.xlabel('Percentage of DNA packaged')\n",
    "plt.ylabel('Force (pN.nm)')\n",
    "plt.legend()\n",
    "plt.savefig('caca.png',dpi=300)"
   ]
  },
  {
   "cell_type": "code",
   "execution_count": 15,
   "metadata": {},
   "outputs": [
    {
     "ename": "NameError",
     "evalue": "name 'res' is not defined",
     "output_type": "error",
     "traceback": [
      "\u001b[1;31m---------------------------------------------------------------------------\u001b[0m",
      "\u001b[1;31mNameError\u001b[0m                                 Traceback (most recent call last)",
      "\u001b[1;32m<ipython-input-15-80148987d5c2>\u001b[0m in \u001b[0;36m<module>\u001b[1;34m\u001b[0m\n\u001b[0;32m      2\u001b[0m \u001b[0mplt\u001b[0m\u001b[1;33m.\u001b[0m\u001b[0mrc\u001b[0m\u001b[1;33m(\u001b[0m\u001b[1;34m'font'\u001b[0m\u001b[1;33m,\u001b[0m \u001b[0msize\u001b[0m\u001b[1;33m=\u001b[0m\u001b[1;36m15\u001b[0m\u001b[1;33m)\u001b[0m\u001b[1;33m\u001b[0m\u001b[1;33m\u001b[0m\u001b[0m\n\u001b[0;32m      3\u001b[0m \u001b[1;33m\u001b[0m\u001b[0m\n\u001b[1;32m----> 4\u001b[1;33m \u001b[0mR\u001b[0m \u001b[1;33m=\u001b[0m \u001b[0mRM\u001b[0m\u001b[1;33m(\u001b[0m\u001b[0mX_data\u001b[0m\u001b[1;33m,\u001b[0m\u001b[0mres\u001b[0m\u001b[1;33m.\u001b[0m\u001b[0mx\u001b[0m\u001b[1;33m[\u001b[0m\u001b[1;36m0\u001b[0m\u001b[1;33m]\u001b[0m\u001b[1;33m,\u001b[0m\u001b[0mres\u001b[0m\u001b[1;33m.\u001b[0m\u001b[0mx\u001b[0m\u001b[1;33m[\u001b[0m\u001b[1;36m1\u001b[0m\u001b[1;33m]\u001b[0m\u001b[1;33m)\u001b[0m\u001b[1;33m\u001b[0m\u001b[1;33m\u001b[0m\u001b[0m\n\u001b[0m\u001b[0;32m      5\u001b[0m \u001b[1;33m\u001b[0m\u001b[0m\n\u001b[0;32m      6\u001b[0m \u001b[0mpopt\u001b[0m\u001b[1;33m,\u001b[0m \u001b[0mpcov\u001b[0m \u001b[1;33m=\u001b[0m \u001b[0mcurve_fit\u001b[0m\u001b[1;33m(\u001b[0m\u001b[0mcurve\u001b[0m\u001b[1;33m,\u001b[0m \u001b[0mX_data\u001b[0m\u001b[1;33m,\u001b[0m\u001b[0mR\u001b[0m\u001b[1;33m,\u001b[0m\u001b[0mmaxfev\u001b[0m\u001b[1;33m=\u001b[0m\u001b[1;36m10000\u001b[0m\u001b[1;33m,\u001b[0m\u001b[0mp0\u001b[0m\u001b[1;33m=\u001b[0m\u001b[1;33m[\u001b[0m\u001b[1;36m1\u001b[0m\u001b[1;33m,\u001b[0m\u001b[1;33m-\u001b[0m\u001b[1;36m1\u001b[0m\u001b[1;33m/\u001b[0m\u001b[1;36m2\u001b[0m\u001b[1;33m]\u001b[0m\u001b[1;33m)\u001b[0m\u001b[1;33m\u001b[0m\u001b[1;33m\u001b[0m\u001b[0m\n",
      "\u001b[1;31mNameError\u001b[0m: name 'res' is not defined"
     ]
    },
    {
     "data": {
      "text/plain": [
       "<Figure size 432x288 with 0 Axes>"
      ]
     },
     "metadata": {},
     "output_type": "display_data"
    }
   ],
   "source": [
    "\n",
    "\n",
    "\n",
    "plt.figure(1)\n",
    "plt.rc('font', size=15)\n",
    "\n",
    "R = RM(X_data,res.x[0],res.x[1])\n",
    "\n",
    "popt, pcov = curve_fit(curve, X_data,R,maxfev=10000,p0=[1,-1/2])\n",
    "\n",
    "plt.plot(X_data, R, label='Rm')\n",
    "plt.plot(X_data, curve(X_data, *popt), '--',\n",
    "         label='fit: exposent=%5.3f' % popt[1])\n",
    "\n",
    "plt.xlabel('Percentage of DNA packaged')\n",
    "plt.ylabel('Rm')\n",
    "plt.title(' Rm fit ')\n",
    "plt.grid('on')\n",
    "plt.legend()\n",
    "plt.savefig('figure1.png',dpi=300)\n",
    "plt.show()"
   ]
  },
  {
   "cell_type": "code",
   "execution_count": null,
   "metadata": {},
   "outputs": [],
   "source": []
  }
 ],
 "metadata": {
  "colab": {
   "collapsed_sections": [],
   "name": "A cylinder.ipynb",
   "provenance": []
  },
  "kernelspec": {
   "display_name": "Python 3",
   "language": "python",
   "name": "python3"
  },
  "language_info": {
   "codemirror_mode": {
    "name": "ipython",
    "version": 3
   },
   "file_extension": ".py",
   "mimetype": "text/x-python",
   "name": "python",
   "nbconvert_exporter": "python",
   "pygments_lexer": "ipython3",
   "version": "3.8.3"
  }
 },
 "nbformat": 4,
 "nbformat_minor": 1
}
